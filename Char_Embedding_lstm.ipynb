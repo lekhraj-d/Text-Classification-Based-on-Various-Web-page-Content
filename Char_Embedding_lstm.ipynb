{
  "nbformat": 4,
  "nbformat_minor": 0,
  "metadata": {
    "colab": {
      "name": "Char_Embedding_lstm.ipynb",
      "version": "0.3.2",
      "provenance": [],
      "collapsed_sections": []
    },
    "kernelspec": {
      "name": "python3",
      "display_name": "Python 3"
    },
    "accelerator": "GPU"
  },
  "cells": [
    {
      "metadata": {
        "id": "7WLnRgtz-szZ",
        "colab_type": "text"
      },
      "cell_type": "markdown",
      "source": [
        "<h1>Problem Description: </h1>\n",
        "\n",
        "Classification of Web page content is vital to many tasks in Web information retrieval such as maintaining Web directories and focused crawling. The uncontrolled nature of Web content presents additional challenges to Web page classification as compared to traditional text classification, however the interconnected nature of hypertext also provides features that can assist the process.\n",
        "Here the task is to classify the web pages to the respective classes it belongs to, in a single label classification setup (Each webpage can belong to only 1 class).\n",
        "\n",
        "Basically given the complete html and url, predict the tag a web page belongs to out of 9 predefined tags as given below:\n",
        "\n",
        "People profile 2) Conferences/Congress 3) Forums 4) News article 5) Clinical trials 6) Publication 7) Thesis 8) Guidelines 9) Others"
      ]
    },
    {
      "metadata": {
        "id": "URqPHia5s6_u",
        "colab_type": "code",
        "outputId": "02f87199-7c76-4917-d12f-f81527e4cb9c",
        "colab": {
          "base_uri": "https://localhost:8080/",
          "height": 104
        }
      },
      "cell_type": "code",
      "source": [
        "#Connecting Google Colab with Google Drive\n",
        "\n",
        "!apt-get install -y -qq software-properties-common python-software-properties module-init-tools\n",
        "!add-apt-repository -y ppa:alessandro-strada/ppa 2>&1 > /dev/null\n",
        "!apt-get update -qq 2>&1 > /dev/null\n",
        "!apt-get -y install -qq google-drive-ocamlfuse fuse\n",
        "from google.colab import auth\n",
        "auth.authenticate_user()\n",
        "from oauth2client.client import GoogleCredentials\n",
        "creds = GoogleCredentials.get_application_default()\n",
        "import getpass\n",
        "!google-drive-ocamlfuse -headless -id={creds.client_id} -secret={creds.client_secret} < /dev/null 2>&1 | grep URL\n",
        "vcode = getpass.getpass()\n",
        "!echo {vcode} | google-drive-ocamlfuse -headless -id={creds.client_id} -secret={creds.client_secret}\n"
      ],
      "execution_count": 0,
      "outputs": [
        {
          "output_type": "stream",
          "text": [
            "Please, open the following URL in a web browser: https://accounts.google.com/o/oauth2/auth?client_id=32555940559.apps.googleusercontent.com&redirect_uri=urn%3Aietf%3Awg%3Aoauth%3A2.0%3Aoob&scope=https%3A%2F%2Fwww.googleapis.com%2Fauth%2Fdrive&response_type=code&access_type=offline&approval_prompt=force\r\n",
            "··········\n",
            "Please, open the following URL in a web browser: https://accounts.google.com/o/oauth2/auth?client_id=32555940559.apps.googleusercontent.com&redirect_uri=urn%3Aietf%3Awg%3Aoauth%3A2.0%3Aoob&scope=https%3A%2F%2Fwww.googleapis.com%2Fauth%2Fdrive&response_type=code&access_type=offline&approval_prompt=force\n",
            "Please enter the verification code: Access token retrieved correctly.\n"
          ],
          "name": "stdout"
        }
      ]
    },
    {
      "metadata": {
        "id": "HT5aSB8Zs6_z",
        "colab_type": "code",
        "colab": {}
      },
      "cell_type": "code",
      "source": [
        "!mkdir -p drive\n",
        "!google-drive-ocamlfuse drive"
      ],
      "execution_count": 0,
      "outputs": []
    },
    {
      "metadata": {
        "id": "pwxyqfy6DSYj",
        "colab_type": "code",
        "outputId": "c49e35a3-a080-4b86-f7b4-d7ae14867e53",
        "colab": {
          "base_uri": "https://localhost:8080/",
          "height": 33
        }
      },
      "cell_type": "code",
      "source": [
        "!ls  /content/drive/Hackthon/Innoplexus/temp/"
      ],
      "execution_count": 0,
      "outputs": [
        {
          "output_type": "stream",
          "text": [
            "glove.6B.100d.txt  new_data.csv  test_nvPHrOx.csv  train.csv\r\n"
          ],
          "name": "stdout"
        }
      ]
    },
    {
      "metadata": {
        "id": "s2jCOwMvs6_0",
        "colab_type": "code",
        "colab": {}
      },
      "cell_type": "code",
      "source": [
        "#unzip Autopilot folder as data is inside there\n",
        "!cp  /content/drive/Hackthon/Innoplexus/temp/* .\n",
        "#!cp new_html.csv  /content/drive/Hackthon/Innoplexus/"
      ],
      "execution_count": 0,
      "outputs": []
    },
    {
      "metadata": {
        "id": "p-jnnMDSs6_3",
        "colab_type": "code",
        "outputId": "073c98b4-a0d1-4015-84f5-a847c7330abf",
        "colab": {
          "base_uri": "https://localhost:8080/",
          "height": 150
        }
      },
      "cell_type": "code",
      "source": [
        "#!unzip train.zip\n",
        "#!unzip glove.6B.zip"
      ],
      "execution_count": 0,
      "outputs": [
        {
          "output_type": "stream",
          "text": [
            "Archive:  train.zip\n",
            "  inflating: train.csv               \n",
            "  inflating: html_data.csv           \n",
            "Archive:  glove.6B.zip\n",
            "  inflating: glove.6B.50d.txt        \n",
            "  inflating: glove.6B.100d.txt       \n",
            "  inflating: glove.6B.200d.txt       \n",
            "  inflating: glove.6B.300d.txt       \n"
          ],
          "name": "stdout"
        }
      ]
    },
    {
      "metadata": {
        "id": "NKODnlF2jEud",
        "colab_type": "code",
        "outputId": "a351b450-6217-4bd3-9c86-c8ec0568342b",
        "colab": {
          "base_uri": "https://localhost:8080/",
          "height": 33
        }
      },
      "cell_type": "code",
      "source": [
        "!ls"
      ],
      "execution_count": 0,
      "outputs": [
        {
          "output_type": "stream",
          "text": [
            "datalab  drive\tglove.6B.100d.txt  new_data.csv  test_nvPHrOx.csv  train.csv\r\n"
          ],
          "name": "stdout"
        }
      ]
    },
    {
      "metadata": {
        "id": "crx6Ee-QQIhC",
        "colab_type": "code",
        "colab": {}
      },
      "cell_type": "code",
      "source": [
        "#!cp glove.6B.100d.txt  /content/drive/Hackthon/Innoplexus/temp/"
      ],
      "execution_count": 0,
      "outputs": []
    },
    {
      "metadata": {
        "id": "2zMQwsWEzfLG",
        "colab_type": "code",
        "outputId": "b3960a5f-f755-4c08-b049-09ff3cb27f97",
        "colab": {
          "base_uri": "https://localhost:8080/",
          "height": 33
        }
      },
      "cell_type": "code",
      "source": [
        "#Import All Required Python Modules\n",
        "\n",
        "import pandas as pd\n",
        "import numpy as np\n",
        "import re\n",
        "from keras.models import Sequential\n",
        "from keras.layers import Dropout\n",
        "from keras.preprocessing.text import Tokenizer\n",
        "from keras.preprocessing.sequence import pad_sequences\n",
        "from keras.utils.np_utils import to_categorical\n",
        "from keras.layers import Dense, Input,  Flatten\n",
        "from keras.layers import Conv1D, MaxPooling1D, AveragePooling1D, Embedding\n",
        "\n",
        "from keras.callbacks import ModelCheckpoint\n",
        "from sklearn.metrics import confusion_matrix\n",
        "\n",
        "from numpy.random import RandomState\n",
        "from sklearn.preprocessing import LabelEncoder\n",
        "from keras.layers import LSTM,GRU\n",
        "SEED = RandomState(1234567890)"
      ],
      "execution_count": 0,
      "outputs": [
        {
          "output_type": "stream",
          "text": [
            "Using TensorFlow backend.\n"
          ],
          "name": "stderr"
        }
      ]
    },
    {
      "metadata": {
        "id": "Gzu9U15hAEms",
        "colab_type": "code",
        "colab": {}
      },
      "cell_type": "code",
      "source": [
        "#Get Train and Test data from csv file\n",
        "\n",
        "with open('new_data.csv', encoding='ascii', errors='ignore') as infile:\n",
        "    Data = pd.read_csv(infile)\n",
        "Data_Train = pd.read_csv(\"train.csv\")\n",
        "Data_Test  = pd.read_csv(\"test_nvPHrOx.csv\")"
      ],
      "execution_count": 0,
      "outputs": []
    },
    {
      "metadata": {
        "id": "7_skcr12Z55l",
        "colab_type": "code",
        "outputId": "1a3bb7cd-38de-4cc5-cb73-c2b2730cc0bc",
        "colab": {
          "base_uri": "https://localhost:8080/",
          "height": 33
        }
      },
      "cell_type": "code",
      "source": [
        "Data.shape"
      ],
      "execution_count": 0,
      "outputs": [
        {
          "output_type": "execute_result",
          "data": {
            "text/plain": [
              "(79345, 2)"
            ]
          },
          "metadata": {
            "tags": []
          },
          "execution_count": 3
        }
      ]
    },
    {
      "metadata": {
        "id": "fDyG0UJmAb_w",
        "colab_type": "code",
        "colab": {}
      },
      "cell_type": "code",
      "source": [
        "# Data Cleaning \n",
        "\n",
        "def url_str_conv(s):\n",
        "  #ss =re.sub('http://\\w.*/','',s)\n",
        "  #ss =re.sub('https://\\w.*/','',s)\n",
        "  i1 = s.find(\"//\")\n",
        "  i2 = s.find(\"/\",i1+2)\n",
        "  if i1==-1 or i2 == -1:\n",
        "    i3 = s.find(\".com\")\n",
        "    ss = s[i1+2:i3]\n",
        "    ss =re.sub('www.','',ss)\n",
        "    #print(ss)\n",
        "    ss =re.findall(r'\\w\\w+',ss)\n",
        "    ss = ' '.join(ss)\n",
        "    return ss\n",
        "  ss = s[i2+1:]\n",
        "  ss =re.sub('www.','',ss)\n",
        "  ss =re.findall(r'\\w\\w+',ss)\n",
        "  ss = ' '.join(ss)\n",
        "  return ss"
      ],
      "execution_count": 0,
      "outputs": []
    },
    {
      "metadata": {
        "id": "VVMtulMoUYHF",
        "colab_type": "code",
        "colab": {}
      },
      "cell_type": "code",
      "source": [
        "def title_text(s):\n",
        "  s = str(s)\n",
        "  ss =re.sub('\\d',' ',s)\n",
        "  ss =re.findall(r'\\w\\w+',ss)\n",
        "  ss = ' '.join(ss)\n",
        "  ss = ss.strip()\n",
        "  return ss"
      ],
      "execution_count": 0,
      "outputs": []
    },
    {
      "metadata": {
        "id": "zx_2Yjjnblly",
        "colab_type": "code",
        "outputId": "ad10b8a3-0466-4807-fd71-782f7f71c535",
        "colab": {
          "base_uri": "https://localhost:8080/",
          "height": 33
        }
      },
      "cell_type": "code",
      "source": [
        "q= 'https://www.clinicaltrialsregister.eu/ctr-search/trial/2006-006214-16/GB'\n",
        "title_text(q)"
      ],
      "execution_count": 0,
      "outputs": [
        {
          "output_type": "execute_result",
          "data": {
            "text/plain": [
              "'https www clinicaltrialsregister eu ctr search trial GB'"
            ]
          },
          "metadata": {
            "tags": []
          },
          "execution_count": 6
        }
      ]
    },
    {
      "metadata": {
        "id": "U4Bx7vT5Awd7",
        "colab_type": "code",
        "colab": {}
      },
      "cell_type": "code",
      "source": [
        "Data['new_title'] = list(map(title_text,Data.Title))\n",
        "Data_Train['new_url'] = list(map(url_str_conv,Data_Train.Url))\n",
        "Data_Test['new_url'] = list(map(url_str_conv,Data_Test.Url))\n",
        "#"
      ],
      "execution_count": 0,
      "outputs": []
    },
    {
      "metadata": {
        "id": "lIk4418GWlbV",
        "colab_type": "code",
        "colab": {}
      },
      "cell_type": "code",
      "source": [
        "Data_Train = pd.merge(Data_Train,Data,how=\"left\",on=\"Webpage_id\",)\n",
        "Data_Test = pd.merge(Data_Test,Data,how=\"left\",on=\"Webpage_id\")\n",
        "#Data_Train.drop(columns=[\"Title_y\",\"new_Title_y\"])"
      ],
      "execution_count": 0,
      "outputs": []
    },
    {
      "metadata": {
        "id": "sTHWAJztYLQK",
        "colab_type": "code",
        "colab": {}
      },
      "cell_type": "code",
      "source": [
        "def fill_empty(new_title,new_url):\n",
        "    if len(new_title) < 2:\n",
        "      return new_url\n",
        "    else:\n",
        "      return new_title\n",
        "      "
      ],
      "execution_count": 0,
      "outputs": []
    },
    {
      "metadata": {
        "id": "IO1KNZE6V20u",
        "colab_type": "code",
        "colab": {}
      },
      "cell_type": "code",
      "source": [
        "Data_Train[\"update_title\"] = list(map(fill_empty,Data_Train.new_title,Data_Train.new_url))\n",
        "Data_Test[\"update_title\"] = list(map(fill_empty,Data_Test.new_title,Data_Test.new_url))"
      ],
      "execution_count": 0,
      "outputs": []
    },
    {
      "metadata": {
        "id": "DVe2y0daav9L",
        "colab_type": "code",
        "outputId": "d3666eef-5f65-4511-c9ff-b5fa45035ac6",
        "colab": {
          "base_uri": "https://localhost:8080/",
          "height": 364
        }
      },
      "cell_type": "code",
      "source": [
        "Data_Train.head()"
      ],
      "execution_count": 0,
      "outputs": [
        {
          "output_type": "execute_result",
          "data": {
            "text/html": [
              "<div>\n",
              "<style scoped>\n",
              "    .dataframe tbody tr th:only-of-type {\n",
              "        vertical-align: middle;\n",
              "    }\n",
              "\n",
              "    .dataframe tbody tr th {\n",
              "        vertical-align: top;\n",
              "    }\n",
              "\n",
              "    .dataframe thead th {\n",
              "        text-align: right;\n",
              "    }\n",
              "</style>\n",
              "<table border=\"1\" class=\"dataframe\">\n",
              "  <thead>\n",
              "    <tr style=\"text-align: right;\">\n",
              "      <th></th>\n",
              "      <th>Webpage_id</th>\n",
              "      <th>Domain</th>\n",
              "      <th>Url</th>\n",
              "      <th>Tag</th>\n",
              "      <th>new_url</th>\n",
              "      <th>Title</th>\n",
              "      <th>new_title</th>\n",
              "      <th>update_title</th>\n",
              "    </tr>\n",
              "  </thead>\n",
              "  <tbody>\n",
              "    <tr>\n",
              "      <th>0</th>\n",
              "      <td>1</td>\n",
              "      <td>www.fiercepharma.com</td>\n",
              "      <td>http://www.fiercepharma.com/marketing/tecfider...</td>\n",
              "      <td>news</td>\n",
              "      <td>marketing tecfidera gilenya and aubagio way ba...</td>\n",
              "      <td>Tecfidera, Gilenya and Aubagio&amp;#039;s 3-way ba...</td>\n",
              "      <td>Tecfidera Gilenya and Aubagio way battle for M...</td>\n",
              "      <td>Tecfidera Gilenya and Aubagio way battle for M...</td>\n",
              "    </tr>\n",
              "    <tr>\n",
              "      <th>1</th>\n",
              "      <td>2</td>\n",
              "      <td>www.fiercepharma.com</td>\n",
              "      <td>http://www.fiercepharma.com/pharma/novo-equipp...</td>\n",
              "      <td>news</td>\n",
              "      <td>pharma novo equipped to weather storm diabetes...</td>\n",
              "      <td>novo equipped to weather the storm in the u.s....</td>\n",
              "      <td>novo equipped to weather the storm in the diab...</td>\n",
              "      <td>novo equipped to weather the storm in the diab...</td>\n",
              "    </tr>\n",
              "    <tr>\n",
              "      <th>2</th>\n",
              "      <td>3</td>\n",
              "      <td>www.fiercepharma.com</td>\n",
              "      <td>http://www.fiercepharma.com/pharma/another-exe...</td>\n",
              "      <td>news</td>\n",
              "      <td>pharma another exec departs troubled endo and ...</td>\n",
              "      <td>another exec departs troubled endo--and this t...</td>\n",
              "      <td>another exec departs troubled endo and this ti...</td>\n",
              "      <td>another exec departs troubled endo and this ti...</td>\n",
              "    </tr>\n",
              "    <tr>\n",
              "      <th>3</th>\n",
              "      <td>4</td>\n",
              "      <td>www.fiercepharma.com</td>\n",
              "      <td>http://www.fiercepharma.com/pharma/teva-buy-bi...</td>\n",
              "      <td>news</td>\n",
              "      <td>pharma teva buy biosim specialist celltrion it...</td>\n",
              "      <td>would teva buy korea&amp;#039;s celltrion to beef ...</td>\n",
              "      <td>would teva buy korea celltrion to beef up in b...</td>\n",
              "      <td>would teva buy korea celltrion to beef up in b...</td>\n",
              "    </tr>\n",
              "    <tr>\n",
              "      <th>4</th>\n",
              "      <td>5</td>\n",
              "      <td>www.fiercepharma.com</td>\n",
              "      <td>http://www.fiercepharma.com/marketing/actress-...</td>\n",
              "      <td>news</td>\n",
              "      <td>marketing actress marissa tomei partners aller...</td>\n",
              "      <td>restasis-maker allergan recruits actress maris...</td>\n",
              "      <td>restasis maker allergan recruits actress maris...</td>\n",
              "      <td>restasis maker allergan recruits actress maris...</td>\n",
              "    </tr>\n",
              "  </tbody>\n",
              "</table>\n",
              "</div>"
            ],
            "text/plain": [
              "   Webpage_id                Domain  \\\n",
              "0           1  www.fiercepharma.com   \n",
              "1           2  www.fiercepharma.com   \n",
              "2           3  www.fiercepharma.com   \n",
              "3           4  www.fiercepharma.com   \n",
              "4           5  www.fiercepharma.com   \n",
              "\n",
              "                                                 Url   Tag  \\\n",
              "0  http://www.fiercepharma.com/marketing/tecfider...  news   \n",
              "1  http://www.fiercepharma.com/pharma/novo-equipp...  news   \n",
              "2  http://www.fiercepharma.com/pharma/another-exe...  news   \n",
              "3  http://www.fiercepharma.com/pharma/teva-buy-bi...  news   \n",
              "4  http://www.fiercepharma.com/marketing/actress-...  news   \n",
              "\n",
              "                                             new_url  \\\n",
              "0  marketing tecfidera gilenya and aubagio way ba...   \n",
              "1  pharma novo equipped to weather storm diabetes...   \n",
              "2  pharma another exec departs troubled endo and ...   \n",
              "3  pharma teva buy biosim specialist celltrion it...   \n",
              "4  marketing actress marissa tomei partners aller...   \n",
              "\n",
              "                                               Title  \\\n",
              "0  Tecfidera, Gilenya and Aubagio&#039;s 3-way ba...   \n",
              "1  novo equipped to weather the storm in the u.s....   \n",
              "2  another exec departs troubled endo--and this t...   \n",
              "3  would teva buy korea&#039;s celltrion to beef ...   \n",
              "4  restasis-maker allergan recruits actress maris...   \n",
              "\n",
              "                                           new_title  \\\n",
              "0  Tecfidera Gilenya and Aubagio way battle for M...   \n",
              "1  novo equipped to weather the storm in the diab...   \n",
              "2  another exec departs troubled endo and this ti...   \n",
              "3  would teva buy korea celltrion to beef up in b...   \n",
              "4  restasis maker allergan recruits actress maris...   \n",
              "\n",
              "                                        update_title  \n",
              "0  Tecfidera Gilenya and Aubagio way battle for M...  \n",
              "1  novo equipped to weather the storm in the diab...  \n",
              "2  another exec departs troubled endo and this ti...  \n",
              "3  would teva buy korea celltrion to beef up in b...  \n",
              "4  restasis maker allergan recruits actress maris...  "
            ]
          },
          "metadata": {
            "tags": []
          },
          "execution_count": 11
        }
      ]
    },
    {
      "metadata": {
        "id": "tzxMLmvYSB9D",
        "colab_type": "code",
        "colab": {}
      },
      "cell_type": "code",
      "source": [
        "Data_Train.sort_values('Tag',inplace=True)"
      ],
      "execution_count": 0,
      "outputs": []
    },
    {
      "metadata": {
        "id": "rn9rgoJCYErC",
        "colab_type": "code",
        "colab": {}
      },
      "cell_type": "code",
      "source": [
        "from sklearn.preprocessing import LabelEncoder"
      ],
      "execution_count": 0,
      "outputs": []
    },
    {
      "metadata": {
        "id": "_HLJLyJ73MCJ",
        "colab_type": "code",
        "colab": {}
      },
      "cell_type": "code",
      "source": [
        "#Method to do Tokenization for Train DataSet\n",
        "\n",
        "def tokenize_data(X_raw, Y_raw):\n",
        "    tokenizer = Tokenizer(num_words=MAX_NB_WORDS,char_level=True)\n",
        "    tokenizer.fit_on_texts(X_raw)\n",
        "    sequences = tokenizer.texts_to_sequences(X_raw)\n",
        "    word_index = tokenizer.word_index\n",
        "    X_processed = pad_sequences(sequences, maxlen=MAX_SEQUENCE_LENGTH)\n",
        "    label_encoder_y = LabelEncoder()\n",
        "    Y_processed=to_categorical(label_encoder_y.fit_transform(Y_raw))\n",
        "\n",
        "    return X_processed, Y_processed, word_index,tokenizer,label_encoder_y"
      ],
      "execution_count": 0,
      "outputs": []
    },
    {
      "metadata": {
        "id": "p9ezF-pfMXCs",
        "colab_type": "code",
        "colab": {}
      },
      "cell_type": "code",
      "source": [
        "#Method to do Tokenization for Test DataSet\n",
        "\n",
        "def tokenize_test_data(X_raw, tokenizer):\n",
        "    sequences = tokenizer.texts_to_sequences(X_raw)\n",
        "    word_index = tokenizer.word_index\n",
        "    X_processed = pad_sequences(sequences, maxlen=MAX_SEQUENCE_LENGTH)\n",
        "\n",
        "    return X_processed,word_index"
      ],
      "execution_count": 0,
      "outputs": []
    },
    {
      "metadata": {
        "id": "OD9dHYhEPMeT",
        "colab_type": "code",
        "colab": {}
      },
      "cell_type": "code",
      "source": [
        "#Spliting Train and Dev dataset\n",
        "\n",
        "def split_the_data(X_processed, Y_processed):\n",
        "  count=1\n",
        "  #X=list(X_processed)\n",
        "  #Y=list(Y_processed)\n",
        "  x_train=[]\n",
        "  y_train=[]\n",
        "  x_val=[]\n",
        "  y_val=[]\n",
        "  for i,j in zip(X_processed,Y_processed):\n",
        "    if count%3==0:\n",
        "      x_val.append(i)\n",
        "      y_val.append(j)\n",
        "    else:\n",
        "      x_train.append(i)\n",
        "      y_train.append(j)\n",
        "    count+=1\n",
        "  x_train=np.asarray(x_train)\n",
        "  x_val=np.asarray(x_val)\n",
        "  y_train=np.asarray(y_train)\n",
        "  y_val=np.asarray(y_val)\n",
        "  return x_train, x_val, y_train, y_val"
      ],
      "execution_count": 0,
      "outputs": []
    },
    {
      "metadata": {
        "id": "kuIleXNV3Fj1",
        "colab_type": "code",
        "colab": {}
      },
      "cell_type": "code",
      "source": [
        "#Word Embedding with Glove Word Embeddings\n",
        "\n",
        "def make_embedding_layer(word_index):\n",
        "    embeddings = get_embeddings()\n",
        "    nb_words = min(MAX_NB_WORDS, len(word_index))\n",
        "    embedding_matrix = np.zeros((nb_words, EMBEDDING_DIM))\n",
        "\n",
        "    for word, i in word_index.items():\n",
        "        if i >= MAX_NB_WORDS:\n",
        "            continue\n",
        "        embedding_vector = embeddings.get(word)\n",
        "        if embedding_vector is not None:\n",
        "            embedding_matrix[i] = embedding_vector\n",
        "\n",
        "    embedding_layer = Embedding(nb_words, EMBEDDING_DIM, weights=[embedding_matrix], input_length=MAX_SEQUENCE_LENGTH, trainable=False)\n",
        "    return embedding_layer"
      ],
      "execution_count": 0,
      "outputs": []
    },
    {
      "metadata": {
        "id": "JXlszTTz3UNF",
        "colab_type": "code",
        "colab": {}
      },
      "cell_type": "code",
      "source": [
        "def get_embeddings():\n",
        "    embeddings = {}\n",
        "    with open(GLOVE_FILE, 'r') as f:\n",
        "        for line in f:\n",
        "            values = line.split()\n",
        "            word = values[0]\n",
        "            coefs = np.asarray(values[1:], dtype='float32')\n",
        "            embeddings[word] = coefs\n",
        "    return embeddings"
      ],
      "execution_count": 0,
      "outputs": []
    },
    {
      "metadata": {
        "id": "fkRQFI_Z2kqC",
        "colab_type": "code",
        "colab": {}
      },
      "cell_type": "code",
      "source": [
        "MAX_SEQUENCE_LENGTH = 500\n",
        "MAX_NB_WORDS = 20000\n",
        "EMBEDDING_DIM = 100\n",
        "GLOVE_FILE = 'glove.6B.100d.txt'"
      ],
      "execution_count": 0,
      "outputs": []
    },
    {
      "metadata": {
        "id": "hDccdr5kWGlW",
        "colab_type": "code",
        "colab": {}
      },
      "cell_type": "code",
      "source": [
        "X_processed, Y_processed, word_index,tokenizer,label_encoder_y = tokenize_data(Data_Train.update_title,Data_Train.Tag)\n",
        "x_train, x_val, y_train, y_val = split_the_data(X_processed, Y_processed)\n",
        "#embedded_sequences = make_embedding_layer(word_index)\n",
        "nb_words = min(MAX_NB_WORDS, len(word_index))"
      ],
      "execution_count": 0,
      "outputs": []
    },
    {
      "metadata": {
        "id": "FbJY8MoNVVuu",
        "colab_type": "code",
        "colab": {}
      },
      "cell_type": "code",
      "source": [
        "def make_model_lstm(labels_index,drop_rate=0.5,unit=100,dense=256):\n",
        "    \n",
        "    model = Sequential([\n",
        "        Embedding(nb_words, EMBEDDING_DIM, input_length=MAX_SEQUENCE_LENGTH),\n",
        "        LSTM(unit),\n",
        "        #LSTM(unit,return_sequences=True),\n",
        "        #LSTM(unit),\n",
        "        #Flatten(),\n",
        "        #Dropout(drop_rate),\n",
        "        #Dense(dense, activation='relu'),\n",
        "        #Dropout(drop_rate),\n",
        "        #Dense(500, activation='relu'),\n",
        "        #Dropout(drop_rate),\n",
        "        #Dense(100, activation='relu'),\n",
        "        #Dropout(drop_rate),\n",
        "        #Dense(28, activation='relu'),\n",
        "        Dense(labels_index, activation='softmax')\n",
        "    ])\n",
        "\n",
        "    model.compile(loss='categorical_crossentropy', optimizer='adam', metrics=['acc'])\n",
        "\n",
        "    return model"
      ],
      "execution_count": 0,
      "outputs": []
    },
    {
      "metadata": {
        "id": "lgdQCjfq7a7y",
        "colab_type": "code",
        "colab": {}
      },
      "cell_type": "code",
      "source": [
        "def make_model_gru(labels_index,drop_rate=0.5,unit=100,dense=256):\n",
        "    \n",
        "    model = Sequential([\n",
        "        embedded_sequences,\n",
        "        GRU(unit),\n",
        "        #GRU(50),\n",
        "        #Flatten(),\n",
        "        Dropout(drop_rate),\n",
        "        Dense(dense, activation='relu'),\n",
        "        Dropout(drop_rate),\n",
        "        Dense(64, activation='relu'),\n",
        "        Dense(labels_index, activation='softmax')\n",
        "    ])\n",
        "\n",
        "    model.compile(loss='categorical_crossentropy', optimizer='adam', metrics=['acc'])\n",
        "\n",
        "    return model"
      ],
      "execution_count": 0,
      "outputs": []
    },
    {
      "metadata": {
        "id": "_Br1v6HOBhCi",
        "colab_type": "code",
        "outputId": "b07398b9-8325-4a8f-9249-d23c3559f7ba",
        "colab": {
          "base_uri": "https://localhost:8080/",
          "height": 1054
        }
      },
      "cell_type": "code",
      "source": [
        "labels_index=9\n",
        "model = make_model_lstm(labels_index,drop_rate=0.3,unit=50,dense=1000)\n",
        "model.fit(x_train, y_train, validation_data=(x_val, y_val),epochs=30, batch_size=256)"
      ],
      "execution_count": 0,
      "outputs": [
        {
          "output_type": "stream",
          "text": [
            "Train on 35632 samples, validate on 17815 samples\n",
            "Epoch 1/30\n",
            "35632/35632 [==============================] - 193s 5ms/step - loss: 1.8411 - acc: 0.3643 - val_loss: 1.5913 - val_acc: 0.4297\n",
            "Epoch 2/30\n",
            "35632/35632 [==============================] - 192s 5ms/step - loss: 1.4882 - acc: 0.4659 - val_loss: 1.3993 - val_acc: 0.5017\n",
            "Epoch 3/30\n",
            "35632/35632 [==============================] - 194s 5ms/step - loss: 1.3363 - acc: 0.5269 - val_loss: 1.2852 - val_acc: 0.5415\n",
            "Epoch 4/30\n",
            "35632/35632 [==============================] - 193s 5ms/step - loss: 1.2257 - acc: 0.5634 - val_loss: 1.1760 - val_acc: 0.5853\n",
            "Epoch 5/30\n",
            "35632/35632 [==============================] - 193s 5ms/step - loss: 1.1339 - acc: 0.5984 - val_loss: 1.1839 - val_acc: 0.5784\n",
            "Epoch 6/30\n",
            "35632/35632 [==============================] - 193s 5ms/step - loss: 1.0707 - acc: 0.6309 - val_loss: 1.0343 - val_acc: 0.6446\n",
            "Epoch 7/30\n",
            "35632/35632 [==============================] - 193s 5ms/step - loss: 1.0017 - acc: 0.6585 - val_loss: 0.9911 - val_acc: 0.6576\n",
            "Epoch 8/30\n",
            "35632/35632 [==============================] - 193s 5ms/step - loss: 0.9429 - acc: 0.6830 - val_loss: 0.9323 - val_acc: 0.6848\n",
            "Epoch 9/30\n",
            "35632/35632 [==============================] - 193s 5ms/step - loss: 0.8939 - acc: 0.6992 - val_loss: 0.8929 - val_acc: 0.7028\n",
            "Epoch 10/30\n",
            "35632/35632 [==============================] - 193s 5ms/step - loss: 0.8606 - acc: 0.7162 - val_loss: 0.8607 - val_acc: 0.7156\n",
            "Epoch 11/30\n",
            "35632/35632 [==============================] - 193s 5ms/step - loss: 0.8256 - acc: 0.7282 - val_loss: 0.8522 - val_acc: 0.7167\n",
            "Epoch 12/30\n",
            "35632/35632 [==============================] - 193s 5ms/step - loss: 0.7906 - acc: 0.7390 - val_loss: 0.8203 - val_acc: 0.7287\n",
            "Epoch 13/30\n",
            "35632/35632 [==============================] - 193s 5ms/step - loss: 0.7671 - acc: 0.7497 - val_loss: 0.7786 - val_acc: 0.7464\n",
            "Epoch 14/30\n",
            "35632/35632 [==============================] - 194s 5ms/step - loss: 0.7370 - acc: 0.7595 - val_loss: 0.7660 - val_acc: 0.7514\n",
            "Epoch 15/30\n",
            "35632/35632 [==============================] - 193s 5ms/step - loss: 0.7122 - acc: 0.7689 - val_loss: 0.7323 - val_acc: 0.7669\n",
            "Epoch 16/30\n",
            "35632/35632 [==============================] - 193s 5ms/step - loss: 0.7127 - acc: 0.7705 - val_loss: 0.7273 - val_acc: 0.7669\n",
            "Epoch 17/30\n",
            "35632/35632 [==============================] - 194s 5ms/step - loss: 0.6694 - acc: 0.7844 - val_loss: 0.7068 - val_acc: 0.7719\n",
            "Epoch 18/30\n",
            "35632/35632 [==============================] - 193s 5ms/step - loss: 0.6550 - acc: 0.7888 - val_loss: 0.6973 - val_acc: 0.7757\n",
            "Epoch 19/30\n",
            "35632/35632 [==============================] - 193s 5ms/step - loss: 0.6388 - acc: 0.7954 - val_loss: 0.6914 - val_acc: 0.7797\n",
            "Epoch 20/30\n",
            "35632/35632 [==============================] - 193s 5ms/step - loss: 0.6222 - acc: 0.8016 - val_loss: 0.6687 - val_acc: 0.7876\n",
            "Epoch 21/30\n",
            "35632/35632 [==============================] - 193s 5ms/step - loss: 0.6069 - acc: 0.8061 - val_loss: 0.6622 - val_acc: 0.7888\n",
            "Epoch 22/30\n",
            "35632/35632 [==============================] - 194s 5ms/step - loss: 0.5962 - acc: 0.8090 - val_loss: 0.6463 - val_acc: 0.7948\n",
            "Epoch 23/30\n",
            "35632/35632 [==============================] - 193s 5ms/step - loss: 0.5791 - acc: 0.8145 - val_loss: 0.6407 - val_acc: 0.7996\n",
            "Epoch 24/30\n",
            "35632/35632 [==============================] - 194s 5ms/step - loss: 0.5709 - acc: 0.8183 - val_loss: 0.6390 - val_acc: 0.8018\n",
            "Epoch 25/30\n",
            "35632/35632 [==============================] - 193s 5ms/step - loss: 0.5582 - acc: 0.8229 - val_loss: 0.6277 - val_acc: 0.8045\n",
            "Epoch 26/30\n",
            "35632/35632 [==============================] - 194s 5ms/step - loss: 0.5769 - acc: 0.8183 - val_loss: 0.6299 - val_acc: 0.8033\n",
            "Epoch 27/30\n",
            "35632/35632 [==============================] - 194s 5ms/step - loss: 0.5385 - acc: 0.8304 - val_loss: 0.6454 - val_acc: 0.7990\n",
            "Epoch 28/30\n",
            "35632/35632 [==============================] - 194s 5ms/step - loss: 0.5288 - acc: 0.8330 - val_loss: 0.6092 - val_acc: 0.8077\n",
            "Epoch 29/30\n",
            "35632/35632 [==============================] - 193s 5ms/step - loss: 0.5127 - acc: 0.8382 - val_loss: 0.5990 - val_acc: 0.8140\n",
            "Epoch 30/30\n",
            "35632/35632 [==============================] - 194s 5ms/step - loss: 0.5122 - acc: 0.8382 - val_loss: 0.6314 - val_acc: 0.7982\n"
          ],
          "name": "stdout"
        },
        {
          "output_type": "execute_result",
          "data": {
            "text/plain": [
              "<keras.callbacks.History at 0x7f820af1df28>"
            ]
          },
          "metadata": {
            "tags": []
          },
          "execution_count": 27
        }
      ]
    },
    {
      "metadata": {
        "id": "iu1W7RU0enoP",
        "colab_type": "code",
        "outputId": "657f7139-b965-4a05-f67e-9e69607f36dc",
        "colab": {
          "base_uri": "https://localhost:8080/",
          "height": 2108
        }
      },
      "cell_type": "code",
      "source": [
        "\"\"\"\n",
        "\n",
        "l\n",
        "abels_index=9\n",
        "model = make_model_lstm(labels_index, embedded_sequences,drop_rate=0.8,unit=500,dense=100)\n",
        "model.fit(x_train, y_train, validation_data=(x_val, y_val),epochs=15, batch_size=256,)\n",
        "model = make_model_lstm(labels_index, embedded_sequences,drop_rate=0.7,unit=500,dense=500)\n",
        "model.fit(x_train, y_train, validation_data=(x_val, y_val),epochs=15, batch_size=256,)\n",
        "model = make_model_lstm(labels_index, embedded_sequences,drop_rate=0.6,unit=500,dense=500)\n",
        "model.fit(x_train, y_train, validation_data=(x_val, y_val),epochs=15, batch_size=256,)\n",
        "model = make_model_lstm(labels_index, embedded_sequences,drop_rate=0.3,unit=50,dense=100)\n",
        "model.fit(x_train, y_train, validation_data=(x_val, y_val),epochs=15, batch_size=256,)\n",
        "\"\"\""
      ],
      "execution_count": 0,
      "outputs": [
        {
          "output_type": "stream",
          "text": [
            "Train on 35632 samples, validate on 17815 samples\n",
            "Epoch 1/15\n",
            "35632/35632 [==============================] - 48s 1ms/step - loss: 1.4153 - acc: 0.4990 - val_loss: 0.9163 - val_acc: 0.6955\n",
            "Epoch 2/15\n",
            "35632/35632 [==============================] - 46s 1ms/step - loss: 0.9440 - acc: 0.6740 - val_loss: 0.7370 - val_acc: 0.7491\n",
            "Epoch 3/15\n",
            "35632/35632 [==============================] - 46s 1ms/step - loss: 0.7898 - acc: 0.7320 - val_loss: 0.6355 - val_acc: 0.7884\n",
            "Epoch 4/15\n",
            "35632/35632 [==============================] - 46s 1ms/step - loss: 0.7058 - acc: 0.7633 - val_loss: 0.5988 - val_acc: 0.8006\n",
            "Epoch 5/15\n",
            "35632/35632 [==============================] - 46s 1ms/step - loss: 0.6372 - acc: 0.7863 - val_loss: 0.5534 - val_acc: 0.8191\n",
            "Epoch 6/15\n",
            "35632/35632 [==============================] - 46s 1ms/step - loss: 0.5831 - acc: 0.8059 - val_loss: 0.5097 - val_acc: 0.8315\n",
            "Epoch 7/15\n",
            "35632/35632 [==============================] - 46s 1ms/step - loss: 0.5478 - acc: 0.8205 - val_loss: 0.5044 - val_acc: 0.8367\n",
            "Epoch 8/15\n",
            "35632/35632 [==============================] - 46s 1ms/step - loss: 0.4964 - acc: 0.8382 - val_loss: 0.4570 - val_acc: 0.8540\n",
            "Epoch 9/15\n",
            "35632/35632 [==============================] - 46s 1ms/step - loss: 0.4630 - acc: 0.8490 - val_loss: 0.4621 - val_acc: 0.8489\n",
            "Epoch 10/15\n",
            "35632/35632 [==============================] - 46s 1ms/step - loss: 0.4437 - acc: 0.8559 - val_loss: 0.4377 - val_acc: 0.8610\n",
            "Epoch 11/15\n",
            "35632/35632 [==============================] - 46s 1ms/step - loss: 0.4177 - acc: 0.8640 - val_loss: 0.4209 - val_acc: 0.8610\n",
            "Epoch 12/15\n",
            "35632/35632 [==============================] - 46s 1ms/step - loss: 0.3896 - acc: 0.8745 - val_loss: 0.4254 - val_acc: 0.8656\n",
            "Epoch 13/15\n",
            "35632/35632 [==============================] - 46s 1ms/step - loss: 0.3600 - acc: 0.8842 - val_loss: 0.4026 - val_acc: 0.8739\n",
            "Epoch 14/15\n",
            "35632/35632 [==============================] - 46s 1ms/step - loss: 0.5658 - acc: 0.8135 - val_loss: 0.4150 - val_acc: 0.8683\n",
            "Epoch 15/15\n",
            "35632/35632 [==============================] - 46s 1ms/step - loss: 0.3924 - acc: 0.8721 - val_loss: 0.4078 - val_acc: 0.8715\n",
            "Train on 35632 samples, validate on 17815 samples\n",
            "Epoch 1/15\n",
            "35632/35632 [==============================] - 48s 1ms/step - loss: 1.2846 - acc: 0.5510 - val_loss: 0.8085 - val_acc: 0.7146\n",
            "Epoch 2/15\n",
            "35632/35632 [==============================] - 46s 1ms/step - loss: 0.8061 - acc: 0.7235 - val_loss: 0.6505 - val_acc: 0.7751\n",
            "Epoch 3/15\n",
            "35632/35632 [==============================] - 46s 1ms/step - loss: 0.6796 - acc: 0.7681 - val_loss: 0.5695 - val_acc: 0.8075\n",
            "Epoch 4/15\n",
            "35632/35632 [==============================] - 47s 1ms/step - loss: 0.5997 - acc: 0.7985 - val_loss: 0.5244 - val_acc: 0.8268\n",
            "Epoch 5/15\n",
            "35632/35632 [==============================] - 47s 1ms/step - loss: 0.5367 - acc: 0.8205 - val_loss: 0.4932 - val_acc: 0.8380\n",
            "Epoch 6/15\n",
            "35632/35632 [==============================] - 46s 1ms/step - loss: 0.4895 - acc: 0.8394 - val_loss: 0.4484 - val_acc: 0.8520\n",
            "Epoch 7/15\n",
            "35632/35632 [==============================] - 46s 1ms/step - loss: 0.4494 - acc: 0.8523 - val_loss: 0.4280 - val_acc: 0.8585\n",
            "Epoch 8/15\n",
            "35632/35632 [==============================] - 46s 1ms/step - loss: 0.4169 - acc: 0.8607 - val_loss: 0.4065 - val_acc: 0.8678\n",
            "Epoch 9/15\n",
            "35632/35632 [==============================] - 46s 1ms/step - loss: 0.3876 - acc: 0.8738 - val_loss: 0.4107 - val_acc: 0.8656\n",
            "Epoch 10/15\n",
            "35632/35632 [==============================] - 46s 1ms/step - loss: 0.3636 - acc: 0.8791 - val_loss: 0.4050 - val_acc: 0.8681\n",
            "Epoch 11/15\n",
            "35632/35632 [==============================] - 46s 1ms/step - loss: 0.3550 - acc: 0.8829 - val_loss: 0.3938 - val_acc: 0.8743\n",
            "Epoch 12/15\n",
            "35632/35632 [==============================] - 46s 1ms/step - loss: 0.3220 - acc: 0.8925 - val_loss: 0.3792 - val_acc: 0.8802\n",
            "Epoch 13/15\n",
            "35632/35632 [==============================] - 46s 1ms/step - loss: 0.3010 - acc: 0.8997 - val_loss: 0.3854 - val_acc: 0.8802\n",
            "Epoch 14/15\n",
            "35632/35632 [==============================] - 46s 1ms/step - loss: 0.2828 - acc: 0.9058 - val_loss: 0.3827 - val_acc: 0.8803\n",
            "Epoch 15/15\n",
            "35632/35632 [==============================] - 46s 1ms/step - loss: 0.2621 - acc: 0.9121 - val_loss: 0.4012 - val_acc: 0.8787\n",
            "Train on 35632 samples, validate on 17815 samples\n",
            "Epoch 1/15\n",
            "35632/35632 [==============================] - 48s 1ms/step - loss: 1.1633 - acc: 0.5923 - val_loss: 0.7256 - val_acc: 0.7454\n",
            "Epoch 2/15\n",
            "35632/35632 [==============================] - 46s 1ms/step - loss: 0.7215 - acc: 0.7539 - val_loss: 0.5995 - val_acc: 0.7956\n",
            "Epoch 3/15\n",
            "35632/35632 [==============================] - 46s 1ms/step - loss: 0.6047 - acc: 0.7940 - val_loss: 0.5604 - val_acc: 0.8150\n",
            "Epoch 4/15\n",
            "35632/35632 [==============================] - 46s 1ms/step - loss: 0.5303 - acc: 0.8215 - val_loss: 0.4743 - val_acc: 0.8463\n",
            "Epoch 5/15\n",
            "35632/35632 [==============================] - 46s 1ms/step - loss: 0.4668 - acc: 0.8462 - val_loss: 0.4390 - val_acc: 0.8560\n",
            "Epoch 6/15\n",
            "35632/35632 [==============================] - 46s 1ms/step - loss: 0.4181 - acc: 0.8600 - val_loss: 0.4134 - val_acc: 0.8643\n",
            "Epoch 7/15\n",
            "35632/35632 [==============================] - 46s 1ms/step - loss: 0.3764 - acc: 0.8735 - val_loss: 0.4002 - val_acc: 0.8710\n",
            "Epoch 8/15\n",
            "35632/35632 [==============================] - 46s 1ms/step - loss: 0.3500 - acc: 0.8837 - val_loss: 0.3975 - val_acc: 0.8727\n",
            "Epoch 9/15\n",
            "35632/35632 [==============================] - 46s 1ms/step - loss: 0.3232 - acc: 0.8918 - val_loss: 0.3875 - val_acc: 0.8770\n",
            "Epoch 10/15\n",
            "35632/35632 [==============================] - 46s 1ms/step - loss: 0.2958 - acc: 0.9000 - val_loss: 0.3761 - val_acc: 0.8835\n",
            "Epoch 11/15\n",
            "35632/35632 [==============================] - 47s 1ms/step - loss: 0.2711 - acc: 0.9085 - val_loss: 0.3911 - val_acc: 0.8796\n",
            "Epoch 12/15\n",
            "35632/35632 [==============================] - 46s 1ms/step - loss: 0.2571 - acc: 0.9114 - val_loss: 0.3915 - val_acc: 0.8833\n",
            "Epoch 13/15\n",
            "35632/35632 [==============================] - 46s 1ms/step - loss: 0.2316 - acc: 0.9213 - val_loss: 0.3828 - val_acc: 0.8855\n",
            "Epoch 14/15\n",
            "35632/35632 [==============================] - 47s 1ms/step - loss: 0.2237 - acc: 0.9224 - val_loss: 0.3836 - val_acc: 0.8837\n",
            "Epoch 15/15\n",
            "35632/35632 [==============================] - 46s 1ms/step - loss: 0.2051 - acc: 0.9303 - val_loss: 0.4130 - val_acc: 0.8840\n",
            "Train on 35632 samples, validate on 17815 samples\n",
            "Epoch 1/15\n",
            "35632/35632 [==============================] - 39s 1ms/step - loss: 1.4631 - acc: 0.4780 - val_loss: 0.9719 - val_acc: 0.6559\n",
            "Epoch 2/15\n",
            "35632/35632 [==============================] - 38s 1ms/step - loss: 0.9205 - acc: 0.6814 - val_loss: 0.7101 - val_acc: 0.7585\n",
            "Epoch 3/15\n",
            "35632/35632 [==============================] - 38s 1ms/step - loss: 0.7476 - acc: 0.7461 - val_loss: 0.6238 - val_acc: 0.7891\n",
            "Epoch 4/15\n",
            "35632/35632 [==============================] - 38s 1ms/step - loss: 0.6671 - acc: 0.7780 - val_loss: 0.5650 - val_acc: 0.8122\n",
            "Epoch 5/15\n",
            "35632/35632 [==============================] - 38s 1ms/step - loss: 0.6029 - acc: 0.8002 - val_loss: 0.5352 - val_acc: 0.8235\n",
            "Epoch 6/15\n",
            "35632/35632 [==============================] - 38s 1ms/step - loss: 0.5589 - acc: 0.8160 - val_loss: 0.5068 - val_acc: 0.8336\n",
            "Epoch 7/15\n",
            "35632/35632 [==============================] - 38s 1ms/step - loss: 0.5280 - acc: 0.8266 - val_loss: 0.4899 - val_acc: 0.8409\n",
            "Epoch 8/15\n",
            "35632/35632 [==============================] - 38s 1ms/step - loss: 0.5014 - acc: 0.8351 - val_loss: 0.4711 - val_acc: 0.8489\n",
            "Epoch 9/15\n",
            "35632/35632 [==============================] - 38s 1ms/step - loss: 0.4784 - acc: 0.8436 - val_loss: 0.4558 - val_acc: 0.8527\n",
            "Epoch 10/15\n",
            "35632/35632 [==============================] - 38s 1ms/step - loss: 0.4559 - acc: 0.8519 - val_loss: 0.4475 - val_acc: 0.8552\n",
            "Epoch 11/15\n",
            "35632/35632 [==============================] - 38s 1ms/step - loss: 0.4424 - acc: 0.8559 - val_loss: 0.4359 - val_acc: 0.8601\n",
            "Epoch 12/15\n",
            "35632/35632 [==============================] - 38s 1ms/step - loss: 0.4287 - acc: 0.8605 - val_loss: 0.4373 - val_acc: 0.8581\n",
            "Epoch 13/15\n",
            "35632/35632 [==============================] - 38s 1ms/step - loss: 0.4130 - acc: 0.8665 - val_loss: 0.4244 - val_acc: 0.8642\n",
            "Epoch 14/15\n",
            "35632/35632 [==============================] - 38s 1ms/step - loss: 0.4045 - acc: 0.8678 - val_loss: 0.4138 - val_acc: 0.8676\n",
            "Epoch 15/15\n",
            "35632/35632 [==============================] - 38s 1ms/step - loss: 0.3878 - acc: 0.8732 - val_loss: 0.4189 - val_acc: 0.8647\n"
          ],
          "name": "stdout"
        },
        {
          "output_type": "execute_result",
          "data": {
            "text/plain": [
              "<keras.callbacks.History at 0x7fd18413ccf8>"
            ]
          },
          "metadata": {
            "tags": []
          },
          "execution_count": 25
        }
      ]
    },
    {
      "metadata": {
        "id": "i2NLAoyzaDv-",
        "colab_type": "code",
        "outputId": "0a90ebd3-270b-4731-db59-dc5900746c95",
        "colab": {
          "base_uri": "https://localhost:8080/",
          "height": 2108
        }
      },
      "cell_type": "code",
      "source": [
        "\"\"\"\n",
        "model = make_model_gru(labels_index, embedded_sequences,drop_rate=0.8,unit=500,dense=500)\n",
        "model.fit(x_train, y_train, validation_data=(x_val, y_val),epochs=15, batch_size=256,)\n",
        "model = make_model_gru(labels_index, embedded_sequences,drop_rate=0.7,unit=500,dense=500)\n",
        "model.fit(x_train, y_train, validation_data=(x_val, y_val),epochs=15, batch_size=256,)\n",
        "model = make_model_gru(labels_index, embedded_sequences,drop_rate=0.6,unit=500,dense=500)\n",
        "model.fit(x_train, y_train, validation_data=(x_val, y_val),epochs=15, batch_size=256,)\n",
        "model = make_model_gru(labels_index, embedded_sequences,drop_rate=0.3,unit=50,dense=100)\n",
        "model.fit(x_train, y_train, validation_data=(x_val, y_val),epochs=15, batch_size=256,)\n",
        "\"\"\""
      ],
      "execution_count": 0,
      "outputs": [
        {
          "output_type": "stream",
          "text": [
            "Train on 35632 samples, validate on 17815 samples\n",
            "Epoch 1/15\n",
            "35632/35632 [==============================] - 38s 1ms/step - loss: 1.4521 - acc: 0.4805 - val_loss: 0.8922 - val_acc: 0.6980\n",
            "Epoch 2/15\n",
            "35632/35632 [==============================] - 36s 1ms/step - loss: 0.9273 - acc: 0.6775 - val_loss: 0.6930 - val_acc: 0.7653\n",
            "Epoch 3/15\n",
            "35632/35632 [==============================] - 36s 1ms/step - loss: 0.7524 - acc: 0.7463 - val_loss: 0.6137 - val_acc: 0.7938\n",
            "Epoch 4/15\n",
            "35632/35632 [==============================] - 36s 1ms/step - loss: 1.1539 - acc: 0.6551 - val_loss: 0.6321 - val_acc: 0.7967\n",
            "Epoch 5/15\n",
            "35632/35632 [==============================] - 36s 1ms/step - loss: 0.8613 - acc: 0.7252 - val_loss: 0.6307 - val_acc: 0.8009\n",
            "Epoch 6/15\n",
            "35632/35632 [==============================] - 36s 1ms/step - loss: 0.6544 - acc: 0.7868 - val_loss: 0.5323 - val_acc: 0.8314\n",
            "Epoch 7/15\n",
            "35632/35632 [==============================] - 36s 1ms/step - loss: 0.5671 - acc: 0.8161 - val_loss: 0.5007 - val_acc: 0.8392\n",
            "Epoch 8/15\n",
            "35632/35632 [==============================] - 36s 1ms/step - loss: 0.5198 - acc: 0.8332 - val_loss: 0.4708 - val_acc: 0.8500\n",
            "Epoch 9/15\n",
            "35632/35632 [==============================] - 36s 1ms/step - loss: 0.4864 - acc: 0.8429 - val_loss: 0.4595 - val_acc: 0.8517\n",
            "Epoch 10/15\n",
            "35632/35632 [==============================] - 36s 1ms/step - loss: 0.4528 - acc: 0.8541 - val_loss: 0.4500 - val_acc: 0.8549\n",
            "Epoch 11/15\n",
            "35632/35632 [==============================] - 36s 1ms/step - loss: 0.4207 - acc: 0.8644 - val_loss: 0.4300 - val_acc: 0.8614\n",
            "Epoch 12/15\n",
            "35632/35632 [==============================] - 36s 1ms/step - loss: 0.3979 - acc: 0.8738 - val_loss: 0.4372 - val_acc: 0.8622\n",
            "Epoch 13/15\n",
            "35632/35632 [==============================] - 36s 1ms/step - loss: 0.3786 - acc: 0.8770 - val_loss: 0.4163 - val_acc: 0.8684\n",
            "Epoch 14/15\n",
            "35632/35632 [==============================] - 36s 1ms/step - loss: 0.3581 - acc: 0.8848 - val_loss: 0.4235 - val_acc: 0.8660\n",
            "Epoch 15/15\n",
            "35632/35632 [==============================] - 36s 1ms/step - loss: 0.3393 - acc: 0.8893 - val_loss: 0.4229 - val_acc: 0.8661\n",
            "Train on 35632 samples, validate on 17815 samples\n",
            "Epoch 1/15\n",
            "35632/35632 [==============================] - 38s 1ms/step - loss: 1.2488 - acc: 0.5571 - val_loss: 0.7629 - val_acc: 0.7414\n",
            "Epoch 2/15\n",
            "35632/35632 [==============================] - 36s 1ms/step - loss: 0.7567 - acc: 0.7435 - val_loss: 0.6068 - val_acc: 0.8017\n",
            "Epoch 3/15\n",
            "35632/35632 [==============================] - 36s 1ms/step - loss: 0.6149 - acc: 0.7953 - val_loss: 0.5237 - val_acc: 0.8305\n",
            "Epoch 4/15\n",
            "35632/35632 [==============================] - 36s 1ms/step - loss: 0.5201 - acc: 0.8282 - val_loss: 0.4623 - val_acc: 0.8475\n",
            "Epoch 5/15\n",
            "35632/35632 [==============================] - 36s 1ms/step - loss: 0.4517 - acc: 0.8527 - val_loss: 0.4189 - val_acc: 0.8627\n",
            "Epoch 6/15\n",
            "35632/35632 [==============================] - 36s 1ms/step - loss: 0.4099 - acc: 0.8648 - val_loss: 0.4033 - val_acc: 0.8688\n",
            "Epoch 7/15\n",
            "35632/35632 [==============================] - 36s 1ms/step - loss: 0.3616 - acc: 0.8821 - val_loss: 0.3983 - val_acc: 0.8738\n",
            "Epoch 8/15\n",
            "35632/35632 [==============================] - 36s 1ms/step - loss: 0.4537 - acc: 0.8503 - val_loss: 0.4127 - val_acc: 0.8660\n",
            "Epoch 9/15\n",
            "35632/35632 [==============================] - 36s 1ms/step - loss: 0.3648 - acc: 0.8796 - val_loss: 0.3942 - val_acc: 0.8722\n",
            "Epoch 10/15\n",
            "35632/35632 [==============================] - 36s 1ms/step - loss: 0.3127 - acc: 0.8936 - val_loss: 0.3924 - val_acc: 0.8780\n",
            "Epoch 11/15\n",
            "35632/35632 [==============================] - 36s 1ms/step - loss: 0.2854 - acc: 0.9038 - val_loss: 0.3993 - val_acc: 0.8808\n",
            "Epoch 12/15\n",
            "35632/35632 [==============================] - 36s 1ms/step - loss: 0.2610 - acc: 0.9136 - val_loss: 0.3987 - val_acc: 0.8800\n",
            "Epoch 13/15\n",
            "35632/35632 [==============================] - 36s 1ms/step - loss: 0.2403 - acc: 0.9205 - val_loss: 0.4298 - val_acc: 0.8763\n",
            "Epoch 14/15\n",
            "35632/35632 [==============================] - 37s 1ms/step - loss: 0.2173 - acc: 0.9276 - val_loss: 0.4368 - val_acc: 0.8830\n",
            "Epoch 15/15\n",
            "35632/35632 [==============================] - 37s 1ms/step - loss: 0.2031 - acc: 0.9323 - val_loss: 0.4633 - val_acc: 0.8813\n",
            "Train on 35632 samples, validate on 17815 samples\n",
            "Epoch 1/15\n",
            "35632/35632 [==============================] - 38s 1ms/step - loss: 1.1148 - acc: 0.6073 - val_loss: 0.6780 - val_acc: 0.7696\n",
            "Epoch 2/15\n",
            "35632/35632 [==============================] - 36s 1ms/step - loss: 0.6651 - acc: 0.7741 - val_loss: 0.5408 - val_acc: 0.8225\n",
            "Epoch 3/15\n",
            "35632/35632 [==============================] - 37s 1ms/step - loss: 0.5417 - acc: 0.8195 - val_loss: 0.4809 - val_acc: 0.8440\n",
            "Epoch 4/15\n",
            "35632/35632 [==============================] - 37s 1ms/step - loss: 0.4663 - acc: 0.8476 - val_loss: 0.4210 - val_acc: 0.8648\n",
            "Epoch 5/15\n",
            "35632/35632 [==============================] - 36s 1ms/step - loss: 0.4017 - acc: 0.8663 - val_loss: 0.3982 - val_acc: 0.8682\n",
            "Epoch 6/15\n",
            "35632/35632 [==============================] - 36s 1ms/step - loss: 0.3571 - acc: 0.8803 - val_loss: 0.4337 - val_acc: 0.8572\n",
            "Epoch 7/15\n",
            "35632/35632 [==============================] - 36s 1ms/step - loss: 0.3182 - acc: 0.8931 - val_loss: 0.3894 - val_acc: 0.8719\n",
            "Epoch 8/15\n",
            "35632/35632 [==============================] - 36s 1ms/step - loss: 0.2799 - acc: 0.9050 - val_loss: 0.3899 - val_acc: 0.8754\n",
            "Epoch 9/15\n",
            "35632/35632 [==============================] - 36s 1ms/step - loss: 0.2456 - acc: 0.9178 - val_loss: 0.3939 - val_acc: 0.8799\n",
            "Epoch 10/15\n",
            "35632/35632 [==============================] - 36s 1ms/step - loss: 0.2238 - acc: 0.9250 - val_loss: 0.4035 - val_acc: 0.8804\n",
            "Epoch 11/15\n",
            "35632/35632 [==============================] - 36s 1ms/step - loss: 0.1991 - acc: 0.9337 - val_loss: 0.4310 - val_acc: 0.8809\n",
            "Epoch 12/15\n",
            "35632/35632 [==============================] - 36s 1ms/step - loss: 0.1770 - acc: 0.9408 - val_loss: 0.4349 - val_acc: 0.8853\n",
            "Epoch 13/15\n",
            "35632/35632 [==============================] - 36s 1ms/step - loss: 0.1602 - acc: 0.9454 - val_loss: 0.4912 - val_acc: 0.8770\n",
            "Epoch 14/15\n",
            "35632/35632 [==============================] - 36s 1ms/step - loss: 0.1585 - acc: 0.9474 - val_loss: 0.4675 - val_acc: 0.8839\n",
            "Epoch 15/15\n",
            "35632/35632 [==============================] - 36s 1ms/step - loss: 0.1363 - acc: 0.9542 - val_loss: 0.4899 - val_acc: 0.8841\n",
            "Train on 35632 samples, validate on 17815 samples\n",
            "Epoch 1/15\n",
            "35632/35632 [==============================] - 33s 915us/step - loss: 1.4855 - acc: 0.4644 - val_loss: 0.9806 - val_acc: 0.6542\n",
            "Epoch 2/15\n",
            "35632/35632 [==============================] - 31s 867us/step - loss: 0.9306 - acc: 0.6731 - val_loss: 0.7166 - val_acc: 0.7532\n",
            "Epoch 3/15\n",
            "35632/35632 [==============================] - 31s 869us/step - loss: 0.7526 - acc: 0.7432 - val_loss: 0.6250 - val_acc: 0.7870\n",
            "Epoch 4/15\n",
            "35632/35632 [==============================] - 31s 871us/step - loss: 0.6700 - acc: 0.7772 - val_loss: 0.5897 - val_acc: 0.8058\n",
            "Epoch 5/15\n",
            "35632/35632 [==============================] - 31s 871us/step - loss: 0.6101 - acc: 0.7959 - val_loss: 0.5280 - val_acc: 0.8299\n",
            "Epoch 6/15\n",
            "35632/35632 [==============================] - 31s 872us/step - loss: 0.5649 - acc: 0.8120 - val_loss: 0.5033 - val_acc: 0.8381\n",
            "Epoch 7/15\n",
            "35632/35632 [==============================] - 31s 874us/step - loss: 0.5300 - acc: 0.8270 - val_loss: 0.4931 - val_acc: 0.8376\n",
            "Epoch 8/15\n",
            "35632/35632 [==============================] - 31s 872us/step - loss: 0.5067 - acc: 0.8332 - val_loss: 0.4649 - val_acc: 0.8495\n",
            "Epoch 9/15\n",
            "35632/35632 [==============================] - 31s 870us/step - loss: 0.4826 - acc: 0.8435 - val_loss: 0.4592 - val_acc: 0.8534\n",
            "Epoch 10/15\n",
            "35632/35632 [==============================] - 31s 876us/step - loss: 0.4593 - acc: 0.8494 - val_loss: 0.4546 - val_acc: 0.8548\n",
            "Epoch 11/15\n",
            "35632/35632 [==============================] - 31s 870us/step - loss: 0.4387 - acc: 0.8568 - val_loss: 0.4376 - val_acc: 0.8602\n",
            "Epoch 12/15\n",
            "35632/35632 [==============================] - 31s 873us/step - loss: 0.4268 - acc: 0.8612 - val_loss: 0.4320 - val_acc: 0.8620\n",
            "Epoch 13/15\n",
            "35632/35632 [==============================] - 31s 872us/step - loss: 0.4119 - acc: 0.8651 - val_loss: 0.4260 - val_acc: 0.8636\n",
            "Epoch 14/15\n",
            "35632/35632 [==============================] - 31s 876us/step - loss: 0.3980 - acc: 0.8711 - val_loss: 0.4255 - val_acc: 0.8655\n",
            "Epoch 15/15\n",
            "35632/35632 [==============================] - 31s 870us/step - loss: 0.3900 - acc: 0.8744 - val_loss: 0.4220 - val_acc: 0.8653\n"
          ],
          "name": "stdout"
        },
        {
          "output_type": "execute_result",
          "data": {
            "text/plain": [
              "<keras.callbacks.History at 0x7fd17cc26cc0>"
            ]
          },
          "metadata": {
            "tags": []
          },
          "execution_count": 26
        }
      ]
    },
    {
      "metadata": {
        "id": "eUDuJg7ZkoTc",
        "colab_type": "code",
        "colab": {}
      },
      "cell_type": "code",
      "source": [
        "#labels_index=9\n",
        "#model = make_model_lstm(labels_index, embedded_sequences)\n",
        "#model.fit(x_train, y_train, validation_data=(x_val, y_val),epochs=15, batch_size=256,)"
      ],
      "execution_count": 0,
      "outputs": []
    },
    {
      "metadata": {
        "id": "vHf4_BVVKu8S",
        "colab_type": "code",
        "colab": {}
      },
      "cell_type": "code",
      "source": [
        "model.save(\"gru_100_ep_30_model.h5\")\n",
        "!cp gru_100_ep_30_title_model.h5  /content/drive/Hackthon/Innoplexus/"
      ],
      "execution_count": 0,
      "outputs": []
    },
    {
      "metadata": {
        "id": "46_0z1-9gpgB",
        "colab_type": "code",
        "colab": {}
      },
      "cell_type": "code",
      "source": [
        "from sklearn.metrics import confusion_matrix, f1_score, precision_score, recall_score"
      ],
      "execution_count": 0,
      "outputs": []
    },
    {
      "metadata": {
        "id": "gnYb49zPF25Q",
        "colab_type": "code",
        "colab": {}
      },
      "cell_type": "code",
      "source": [
        "s = [np.argmax(y, axis=None, out=None) for y in y_val]"
      ],
      "execution_count": 0,
      "outputs": []
    },
    {
      "metadata": {
        "id": "q-v5y20LXJ21",
        "colab_type": "code",
        "colab": {}
      },
      "cell_type": "code",
      "source": [
        "#pre_train = model.predict_classes(x_train)\n",
        "pre_val = model.predict_classes(x_val)"
      ],
      "execution_count": 0,
      "outputs": []
    },
    {
      "metadata": {
        "id": "yyI1J2_1hBnj",
        "colab_type": "code",
        "outputId": "0ab09a93-1307-4924-fdb4-56e16261375f",
        "colab": {
          "base_uri": "https://localhost:8080/",
          "height": 33
        }
      },
      "cell_type": "code",
      "source": [
        "print(f1_score(s,pre_val,average='weighted'))\n",
        "print(confusion_matrix(s,pre_val,))"
      ],
      "execution_count": 0,
      "outputs": [
        {
          "output_type": "execute_result",
          "data": {
            "text/plain": [
              "0.9261524421751554"
            ]
          },
          "metadata": {
            "tags": []
          },
          "execution_count": 183
        }
      ]
    },
    {
      "metadata": {
        "id": "PUH76PeqKtID",
        "colab_type": "code",
        "colab": {}
      },
      "cell_type": "code",
      "source": [
        "Data_test = Data_Test"
      ],
      "execution_count": 0,
      "outputs": []
    },
    {
      "metadata": {
        "id": "IPE7HizPKkFd",
        "colab_type": "code",
        "colab": {}
      },
      "cell_type": "code",
      "source": [
        "#Data_test = pd.read_csv(\"test_nvPHrOx.csv\")"
      ],
      "execution_count": 0,
      "outputs": []
    },
    {
      "metadata": {
        "id": "Gm_NOO4RKkFp",
        "colab_type": "code",
        "outputId": "0420470a-132b-4fe5-b69a-7614a42d1f3f",
        "colab": {
          "base_uri": "https://localhost:8080/",
          "height": 33
        }
      },
      "cell_type": "code",
      "source": [
        "Data_test.shape"
      ],
      "execution_count": 0,
      "outputs": [
        {
          "output_type": "execute_result",
          "data": {
            "text/plain": [
              "(25787, 7)"
            ]
          },
          "metadata": {
            "tags": []
          },
          "execution_count": 28
        }
      ]
    },
    {
      "metadata": {
        "id": "kG3RL2T_KkF0",
        "colab_type": "code",
        "outputId": "f391781a-1d60-453c-8734-2de5a2d8e878",
        "colab": {
          "base_uri": "https://localhost:8080/",
          "height": 313
        }
      },
      "cell_type": "code",
      "source": [
        "Data_test.head()"
      ],
      "execution_count": 0,
      "outputs": [
        {
          "output_type": "execute_result",
          "data": {
            "text/html": [
              "<div>\n",
              "<style scoped>\n",
              "    .dataframe tbody tr th:only-of-type {\n",
              "        vertical-align: middle;\n",
              "    }\n",
              "\n",
              "    .dataframe tbody tr th {\n",
              "        vertical-align: top;\n",
              "    }\n",
              "\n",
              "    .dataframe thead th {\n",
              "        text-align: right;\n",
              "    }\n",
              "</style>\n",
              "<table border=\"1\" class=\"dataframe\">\n",
              "  <thead>\n",
              "    <tr style=\"text-align: right;\">\n",
              "      <th></th>\n",
              "      <th>Webpage_id</th>\n",
              "      <th>Domain</th>\n",
              "      <th>Url</th>\n",
              "      <th>new_url</th>\n",
              "      <th>Title</th>\n",
              "      <th>new_title</th>\n",
              "      <th>update_title</th>\n",
              "    </tr>\n",
              "  </thead>\n",
              "  <tbody>\n",
              "    <tr>\n",
              "      <th>0</th>\n",
              "      <td>31</td>\n",
              "      <td>isrctn.com</td>\n",
              "      <td>http://www.isrctn.com/ISRCTN57801413</td>\n",
              "      <td>ISRCTN57801413</td>\n",
              "      <td>isrctn - isrctn57801413: development and valid...</td>\n",
              "      <td>isrctn isrctn development and validation of ca...</td>\n",
              "      <td>isrctn isrctn development and validation of ca...</td>\n",
              "    </tr>\n",
              "    <tr>\n",
              "      <th>1</th>\n",
              "      <td>32</td>\n",
              "      <td>www.clinicaltrialsregister.eu</td>\n",
              "      <td>https://www.clinicaltrialsregister.eu/ctr-sear...</td>\n",
              "      <td>ctr search trial 2006 006214 16 GB</td>\n",
              "      <td>clinical trials register</td>\n",
              "      <td>clinical trials register</td>\n",
              "      <td>clinical trials register</td>\n",
              "    </tr>\n",
              "    <tr>\n",
              "      <th>2</th>\n",
              "      <td>33</td>\n",
              "      <td>www.clinicaltrialsregister.eu</td>\n",
              "      <td>https://www.clinicaltrialsregister.eu/ctr-sear...</td>\n",
              "      <td>ctr search trial 2006 004265 34 LT</td>\n",
              "      <td>clinical trials register</td>\n",
              "      <td>clinical trials register</td>\n",
              "      <td>clinical trials register</td>\n",
              "    </tr>\n",
              "    <tr>\n",
              "      <th>3</th>\n",
              "      <td>34</td>\n",
              "      <td>www.clinicaltrialsregister.eu</td>\n",
              "      <td>https://www.clinicaltrialsregister.eu/ctr-sear...</td>\n",
              "      <td>ctr search trial 2010 022183 12 IT</td>\n",
              "      <td>clinical trials register</td>\n",
              "      <td>clinical trials register</td>\n",
              "      <td>clinical trials register</td>\n",
              "    </tr>\n",
              "    <tr>\n",
              "      <th>4</th>\n",
              "      <td>35</td>\n",
              "      <td>www.clinicaltrialsregister.eu</td>\n",
              "      <td>https://www.clinicaltrialsregister.eu/ctr-sear...</td>\n",
              "      <td>ctr search trial 2010 021349 36 NL</td>\n",
              "      <td>clinical trials register</td>\n",
              "      <td>clinical trials register</td>\n",
              "      <td>clinical trials register</td>\n",
              "    </tr>\n",
              "  </tbody>\n",
              "</table>\n",
              "</div>"
            ],
            "text/plain": [
              "   Webpage_id                         Domain  \\\n",
              "0          31                     isrctn.com   \n",
              "1          32  www.clinicaltrialsregister.eu   \n",
              "2          33  www.clinicaltrialsregister.eu   \n",
              "3          34  www.clinicaltrialsregister.eu   \n",
              "4          35  www.clinicaltrialsregister.eu   \n",
              "\n",
              "                                                 Url  \\\n",
              "0               http://www.isrctn.com/ISRCTN57801413   \n",
              "1  https://www.clinicaltrialsregister.eu/ctr-sear...   \n",
              "2  https://www.clinicaltrialsregister.eu/ctr-sear...   \n",
              "3  https://www.clinicaltrialsregister.eu/ctr-sear...   \n",
              "4  https://www.clinicaltrialsregister.eu/ctr-sear...   \n",
              "\n",
              "                              new_url  \\\n",
              "0                      ISRCTN57801413   \n",
              "1  ctr search trial 2006 006214 16 GB   \n",
              "2  ctr search trial 2006 004265 34 LT   \n",
              "3  ctr search trial 2010 022183 12 IT   \n",
              "4  ctr search trial 2010 021349 36 NL   \n",
              "\n",
              "                                               Title  \\\n",
              "0  isrctn - isrctn57801413: development and valid...   \n",
              "1                           clinical trials register   \n",
              "2                           clinical trials register   \n",
              "3                           clinical trials register   \n",
              "4                           clinical trials register   \n",
              "\n",
              "                                           new_title  \\\n",
              "0  isrctn isrctn development and validation of ca...   \n",
              "1                           clinical trials register   \n",
              "2                           clinical trials register   \n",
              "3                           clinical trials register   \n",
              "4                           clinical trials register   \n",
              "\n",
              "                                        update_title  \n",
              "0  isrctn isrctn development and validation of ca...  \n",
              "1                           clinical trials register  \n",
              "2                           clinical trials register  \n",
              "3                           clinical trials register  \n",
              "4                           clinical trials register  "
            ]
          },
          "metadata": {
            "tags": []
          },
          "execution_count": 29
        }
      ]
    },
    {
      "metadata": {
        "id": "EcFgjC-wLfMi",
        "colab_type": "code",
        "colab": {}
      },
      "cell_type": "code",
      "source": [
        "\n",
        "#Data_test['new_url'] = list(map(url_str_conv,Data_test.Url))\n"
      ],
      "execution_count": 0,
      "outputs": []
    },
    {
      "metadata": {
        "id": "j5HeLQCQLGr_",
        "colab_type": "code",
        "colab": {}
      },
      "cell_type": "code",
      "source": [
        "x_test,word_index = tokenize_test_data(Data_test['update_title'], tokenizer)"
      ],
      "execution_count": 0,
      "outputs": []
    },
    {
      "metadata": {
        "id": "hwqzSN26NgpN",
        "colab_type": "code",
        "outputId": "08292201-3fa6-4036-c47a-d5d63918b38f",
        "colab": {
          "base_uri": "https://localhost:8080/",
          "height": 33
        }
      },
      "cell_type": "code",
      "source": [
        "type(x_test)"
      ],
      "execution_count": 0,
      "outputs": [
        {
          "output_type": "execute_result",
          "data": {
            "text/plain": [
              "numpy.ndarray"
            ]
          },
          "metadata": {
            "tags": []
          },
          "execution_count": 31
        }
      ]
    },
    {
      "metadata": {
        "id": "0_slePXRMzow",
        "colab_type": "code",
        "colab": {}
      },
      "cell_type": "code",
      "source": [
        "y_test = model.predict_classes(x_test)"
      ],
      "execution_count": 0,
      "outputs": []
    },
    {
      "metadata": {
        "id": "digdXt5oQq9e",
        "colab_type": "code",
        "outputId": "4fc66757-08af-4e37-975f-ea141662b59f",
        "colab": {
          "base_uri": "https://localhost:8080/",
          "height": 70
        }
      },
      "cell_type": "code",
      "source": [
        "s =label_encoder_y.inverse_transform(list(y_test))"
      ],
      "execution_count": 0,
      "outputs": [
        {
          "output_type": "stream",
          "text": [
            "/usr/local/lib/python3.6/dist-packages/sklearn/preprocessing/label.py:151: DeprecationWarning: The truth value of an empty array is ambiguous. Returning False, but in future this will result in an error. Use `array.size > 0` to check that an array is not empty.\n",
            "  if diff:\n"
          ],
          "name": "stderr"
        }
      ]
    },
    {
      "metadata": {
        "id": "CRzH8pIMREI8",
        "colab_type": "code",
        "outputId": "bb4ee8d7-5fc6-4676-b25b-97557ff36c58",
        "colab": {
          "base_uri": "https://localhost:8080/",
          "height": 50
        }
      },
      "cell_type": "code",
      "source": [
        "s"
      ],
      "execution_count": 0,
      "outputs": [
        {
          "output_type": "execute_result",
          "data": {
            "text/plain": [
              "array(['others', 'clinicalTrials', 'clinicalTrials', ..., 'profile',\n",
              "       'others', 'profile'], dtype=object)"
            ]
          },
          "metadata": {
            "tags": []
          },
          "execution_count": 193
        }
      ]
    },
    {
      "metadata": {
        "id": "6WcS9L2vNaAs",
        "colab_type": "code",
        "colab": {}
      },
      "cell_type": "code",
      "source": [
        "Data_test[\"Tag\"] = s"
      ],
      "execution_count": 0,
      "outputs": []
    },
    {
      "metadata": {
        "id": "ROcJu8i3OHIg",
        "colab_type": "code",
        "colab": {}
      },
      "cell_type": "code",
      "source": [
        "Data_test.to_csv(\"test_predicted_GRU.csv\",index=False,columns=['Webpage_id',\"Tag\"])"
      ],
      "execution_count": 0,
      "outputs": []
    },
    {
      "metadata": {
        "id": "5sgi_OwJPIMp",
        "colab_type": "code",
        "colab": {}
      },
      "cell_type": "code",
      "source": [
        "from google.colab import files\n",
        "files.download(\"test_predicted_GRU.csv\")"
      ],
      "execution_count": 0,
      "outputs": []
    },
    {
      "metadata": {
        "id": "gnvFu_1vPnAZ",
        "colab_type": "code",
        "colab": {}
      },
      "cell_type": "code",
      "source": [
        ""
      ],
      "execution_count": 0,
      "outputs": []
    }
  ]
}